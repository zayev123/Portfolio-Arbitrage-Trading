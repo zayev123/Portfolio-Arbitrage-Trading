{
 "cells": [
  {
   "cell_type": "code",
   "execution_count": null,
   "metadata": {},
   "outputs": [],
   "source": [
    "import threading\n",
    "from etl.etl_run import ETLRun\n",
    "\n",
    "from models import ParentPair, ChildPair\n",
    "\n",
    "from sqlalchemy import create_engine\n",
    "from db_constants import Base\n",
    "from etl.data_loader import DataLoader\n",
    "\n",
    "\n",
    "engine = create_engine('sqlite:///Cryptos.db', echo=False)\n",
    "Base.metadata.create_all(engine)"
   ]
  },
  {
   "cell_type": "code",
   "execution_count": null,
   "metadata": {},
   "outputs": [],
   "source": [
    "stop_event = threading.Event()\n",
    "data_loader = DataLoader()\n",
    "etl = ETLRun(stop_event, pairs_limit=100)\n",
    "etl.start_threads()\n",
    "\n",
    "try:\n",
    "    # Keep the main thread running\n",
    "    while True:\n",
    "        pass\n",
    "except KeyboardInterrupt:\n",
    "    # On KeyboardInterrupt, stop the WebSocketThread\n",
    "    stop_event.set()\n",
    "    etl.stop_threads()\n"
   ]
  },
  {
   "cell_type": "code",
   "execution_count": null,
   "metadata": {},
   "outputs": [],
   "source": [
    "from redis import StrictRedis\n",
    "\n",
    "redis_host = \"localhost\"\n",
    "redis_port = 6379\n",
    "redis_memory = StrictRedis(\n",
    "    host=redis_host,\n",
    "    port=redis_port,\n",
    "    charset=\"utf-8\",\n",
    "    decode_responses=True,\n",
    ")"
   ]
  },
  {
   "cell_type": "code",
   "execution_count": null,
   "metadata": {},
   "outputs": [],
   "source": [
    "redis_memory.hgetall(\"BTCTUSD\")\n",
    "# {'ETH-BTC-USDT': 'ETH-BTC-USDT', 'ETH-BTC-TUSD': 'ETH-BTC-TUSD'}"
   ]
  }
 ],
 "metadata": {
  "kernelspec": {
   "display_name": "xenv",
   "language": "python",
   "name": "python3"
  },
  "language_info": {
   "codemirror_mode": {
    "name": "ipython",
    "version": 3
   },
   "file_extension": ".py",
   "mimetype": "text/x-python",
   "name": "python",
   "nbconvert_exporter": "python",
   "pygments_lexer": "ipython3",
   "version": "3.10.13"
  },
  "orig_nbformat": 4
 },
 "nbformat": 4,
 "nbformat_minor": 2
}
