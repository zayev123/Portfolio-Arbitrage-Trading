{
 "cells": [
  {
   "cell_type": "code",
   "execution_count": null,
   "metadata": {},
   "outputs": [],
   "source": [
    "import threading\n",
    "from etl.etl_run import ETLRun\n",
    "\n",
    "from models import ParentPair, ChildPair\n",
    "\n",
    "from sqlalchemy import create_engine\n",
    "from db_constants import Base\n",
    "\n",
    "engine = create_engine('sqlite:///Cryptos.db', echo=False)\n",
    "Base.metadata.create_all(engine)"
   ]
  },
  {
   "cell_type": "code",
   "execution_count": null,
   "metadata": {},
   "outputs": [],
   "source": [
    "stop_event = threading.Event()\n",
    "etl = ETLRun(stop_event, pairs_limit=100)\n",
    "etl.start_threads()\n",
    "\n",
    "try:\n",
    "    # Keep the main thread running\n",
    "    while True:\n",
    "        pass\n",
    "except KeyboardInterrupt:\n",
    "    # On KeyboardInterrupt, stop the WebSocketThread\n",
    "    stop_event.set()\n",
    "    etl.stop_threads()\n"
   ]
  },
  {
   "cell_type": "code",
   "execution_count": null,
   "metadata": {},
   "outputs": [],
   "source": [
    "\n",
    "parent_pairs = etl.extractor.pair_sockets\n",
    "for parent_pair, sub_pairs in parent_pairs.items():\n",
    "    for sub_pair, thread in sub_pairs.items():\n",
    "        print(thread.updates)"
   ]
  }
 ],
 "metadata": {
  "kernelspec": {
   "display_name": "xenv",
   "language": "python",
   "name": "python3"
  },
  "language_info": {
   "codemirror_mode": {
    "name": "ipython",
    "version": 3
   },
   "file_extension": ".py",
   "mimetype": "text/x-python",
   "name": "python",
   "nbconvert_exporter": "python",
   "pygments_lexer": "ipython3",
   "version": "3.10.13"
  },
  "orig_nbformat": 4
 },
 "nbformat": 4,
 "nbformat_minor": 2
}
