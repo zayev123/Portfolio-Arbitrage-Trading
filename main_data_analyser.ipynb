{
 "cells": [
  {
   "cell_type": "code",
   "execution_count": null,
   "metadata": {},
   "outputs": [],
   "source": [
    "import pandas as pd\n",
    "from etl.data_loader import DataLoader"
   ]
  },
  {
   "cell_type": "code",
   "execution_count": null,
   "metadata": {},
   "outputs": [],
   "source": [
    "results = DataLoader().get_latest_data()\n",
    "df = pd.DataFrame(results)\n",
    "\n",
    "# Define a mapping dictionary\n",
    "mapping_dict = {'1': 'A/B', '2': 'A/C', '3': 'B/C'}\n",
    "\n",
    "# Replace the numerical suffixes in column names\n",
    "df.columns = df.columns.to_series().replace(mapping_dict, regex=True)\n",
    "\n",
    "# Display the modified DataFrame\n",
    "pd.set_option('display.max_rows', None)\n",
    "columns_to_check = ['sub_pair_B/C', 'sub_pair_A/B', 'sub_pair_A/C', 'bid_price_B/C', 'bid_price_A/B', 'bid_price_A/C',\n",
    "                     'ask_price_B/C', 'ask_price_A/B', 'ask_price_A/C']\n",
    "\n",
    "df[columns_to_check] = df[columns_to_check].replace('0', pd.NA)\n",
    "df = df.dropna(subset=columns_to_check)\n",
    "\n",
    "price_columns = ['bid_price_B/C', 'bid_price_A/B', 'bid_price_A/C', \n",
    "                  'ask_price_B/C', 'ask_price_A/B', 'ask_price_A/C']\n",
    "\n",
    "df[price_columns] = df[price_columns].astype(float)\n",
    "df['is_less_than_1'] = df['ask_price_A/B'] * df['ask_price_B/C'] * (1 / df['ask_price_A/C'])\n",
    "\n",
    "df['is_more_than_1'] = df['bid_price_A/B'] * df['bid_price_B/C'] * (1 / df['bid_price_A/C'])\n",
    "print(len(df))\n",
    "display(df)\n",
    "\n"
   ]
  }
 ],
 "metadata": {
  "kernelspec": {
   "display_name": "xenv",
   "language": "python",
   "name": "python3"
  },
  "language_info": {
   "codemirror_mode": {
    "name": "ipython",
    "version": 3
   },
   "file_extension": ".py",
   "mimetype": "text/x-python",
   "name": "python",
   "nbconvert_exporter": "python",
   "pygments_lexer": "ipython3",
   "version": "3.10.13"
  },
  "orig_nbformat": 4
 },
 "nbformat": 4,
 "nbformat_minor": 2
}
