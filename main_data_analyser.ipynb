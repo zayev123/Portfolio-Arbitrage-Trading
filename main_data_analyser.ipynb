{
 "cells": [
  {
   "cell_type": "code",
   "execution_count": null,
   "metadata": {},
   "outputs": [],
   "source": [
    "from sqlalchemy import create_engine\n",
    "from db_constants import Base\n",
    "from sqlalchemy import func\n",
    "import pandas as pd\n",
    "from models import ParentPair, ChildPair\n",
    "from sqlalchemy.orm import sessionmaker\n",
    "from sqlalchemy import String\n",
    "from etl.data_loader import DataLoader\n",
    "\n",
    "\n",
    "engine = create_engine('sqlite:///Cryptos.db', echo=False)\n",
    "Base.metadata.create_all(engine)\n",
    "Session = sessionmaker(bind=engine)\n",
    "session = Session()"
   ]
  },
  {
   "cell_type": "code",
   "execution_count": null,
   "metadata": {},
   "outputs": [],
   "source": [
    "# print(len(qry.all()))\n",
    "# print(qry.all())\n",
    "\n",
    "# # Convert the result to a pandas DataFrame\n",
    "# data = {'id': [1, 2],\n",
    "#         'symbol': ['ETH-BTC-USDT', 'ETH-BTC-TUSD'],\n",
    "#         'sub_pairs_list': ['BTCUSDT, ETHBTC, ETHUSDT', 'BTCTUSD, ETHBTC'],\n",
    "#         'best_bid_prices_list': ['43008.88, 0.05355, 2303.76', '43558.59, 0.05355'],\n",
    "#         'best_ask_prices_list': ['43008.89, 0.05356, 2303.77', '43558.6, 0.05356']}\n",
    "\n",
    "\n",
    "result = DataLoader().get_latest_data()\n",
    "df = pd.DataFrame(result, columns=['id', 'assets', 'sub_pairs_list', 'best_bid_prices_list', 'best_ask_prices_list'])\n",
    "df[['sub_pair_A', 'sub_pair_B', 'sub_pair_C']] = df['sub_pairs_list'].str.split(', ', expand=True)\n",
    "df[['bid_price_A', 'bid_price_B', 'bid_price_C']] = df['best_bid_prices_list'].str.split(', ', expand=True).astype(float)\n",
    "\n",
    "# Split 'best_ask_prices_list' into three columns and convert values to float\n",
    "df[['ask_price_A', 'ask_price_B', 'ask_price_C']] = df['best_ask_prices_list'].str.split(', ', expand=True).astype(float)\n",
    "# Display the DataFrame\n",
    "columns_to_check = ['sub_pair_A', 'sub_pair_B', 'sub_pair_C', 'bid_price_A', 'bid_price_B', 'bid_price_C',\n",
    "                     'ask_price_A', 'ask_price_B', 'ask_price_C']\n",
    "\n",
    "# Drop rows where any of the specified columns contain NaN\n",
    "df = df.dropna(subset=columns_to_check)\n",
    "display(df)\n"
   ]
  }
 ],
 "metadata": {
  "kernelspec": {
   "display_name": "xenv",
   "language": "python",
   "name": "python3"
  },
  "language_info": {
   "codemirror_mode": {
    "name": "ipython",
    "version": 3
   },
   "file_extension": ".py",
   "mimetype": "text/x-python",
   "name": "python",
   "nbconvert_exporter": "python",
   "pygments_lexer": "ipython3",
   "version": "3.10.13"
  },
  "orig_nbformat": 4
 },
 "nbformat": 4,
 "nbformat_minor": 2
}
