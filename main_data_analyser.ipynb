{
 "cells": [
  {
   "cell_type": "code",
   "execution_count": 2,
   "metadata": {},
   "outputs": [],
   "source": [
    "from sqlalchemy import create_engine\n",
    "from db_constants import Base\n",
    "from sqlalchemy import func\n",
    "import pandas as pd\n",
    "from models import ParentPair, ChildPair\n",
    "from sqlalchemy.orm import sessionmaker\n",
    "from sqlalchemy import String\n",
    "from etl.data_loader import DataLoader\n",
    "\n",
    "\n",
    "engine = create_engine('sqlite:///Cryptos.db', echo=False)\n",
    "Base.metadata.create_all(engine)\n",
    "Session = sessionmaker(bind=engine)\n",
    "session = Session()"
   ]
  },
  {
   "cell_type": "code",
   "execution_count": 3,
   "metadata": {},
   "outputs": [
    {
     "name": "stdout",
     "output_type": "stream",
     "text": [
      "[{'parent_pair': 'ETH-BTC-USDT', 'sub_pair_1': 'ETHBTC', 'bid_price_1': 0.05352, 'ask_price_1': 0.05353, 'sub_pair_2': 'ETHUSDT', 'bid_price_2': 2291.14, 'ask_price_2': 2291.15, 'sub_pair_3': 'BTCUSDT', 'bid_price_3': 42808.3, 'ask_price_3': 42808.31}, {'parent_pair': 'ETH-BTC-TUSD', 'sub_pair_1': 'ETHBTC', 'bid_price_1': 0.05352, 'ask_price_1': 0.05353, 'sub_pair_2': 'ETHTUSD', 'bid_price_2': 2322.52, 'ask_price_2': 2322.67, 'sub_pair_3': 'BTCTUSD', 'bid_price_3': 43392.79, 'ask_price_3': 43392.8}, {'parent_pair': 'ETH-BTC-USDC', 'sub_pair_1': 'ETHBTC', 'bid_price_1': 0.05352, 'ask_price_1': 0.05353, 'sub_pair_2': 'ETHUSDC', 'bid_price_2': 2290.32, 'ask_price_2': 2290.33, 'sub_pair_3': 'BTCUSDC', 'bid_price_3': 42792.22, 'ask_price_3': 42792.23}, {'parent_pair': 'ETH-BTC-TRY', 'sub_pair_1': 'ETHBTC', 'bid_price_1': 0.05352, 'ask_price_1': 0.05353, 'sub_pair_2': 'ETHTRY', 'bid_price_2': 70531.0, 'ask_price_2': 70539.0, 'sub_pair_3': 'BTCTRY', 'bid_price_3': 1317789.0, 'ask_price_3': 1317848.0}, {'parent_pair': 'ETH-BTC-EUR', 'sub_pair_1': 'ETHBTC', 'bid_price_1': 0.05352, 'ask_price_1': 0.05353, 'sub_pair_2': 'ETHEUR', 'bid_price_2': 2125.23, 'ask_price_2': 2125.24, 'sub_pair_3': 'BTCEUR', 'bid_price_3': 39705.21, 'ask_price_3': 39705.22}, {'parent_pair': 'ETH-BTC-ZAR', 'sub_pair_1': 'ETHBTC', 'bid_price_1': 0.05352, 'ask_price_1': 0.05353, 'sub_pair_2': 'ETHZAR', 'bid_price_2': 44237.0, 'ask_price_2': 44319.0, 'sub_pair_3': 'BTCZAR', 'bid_price_3': 827524.0, 'ask_price_3': 827667.0}, {'parent_pair': 'ETH-BTC-BIDR', 'sub_pair_1': 'ETHBTC', 'bid_price_1': 0.05352, 'ask_price_1': 0.05353, 'sub_pair_2': 'ETHBIDR', 'bid_price_2': 36025286.0, 'ask_price_2': 36053831.0, 'sub_pair_3': 'BTCBIDR', 'bid_price_3': 673184721.0, 'ask_price_3': 673637071.0}, {'parent_pair': 'ETH-BTC-DAI', 'sub_pair_1': 'ETHBTC', 'bid_price_1': 0.05352, 'ask_price_1': 0.05353, 'sub_pair_2': 'ETHDAI', 'bid_price_2': 2290.36, 'ask_price_2': 2290.38, 'sub_pair_3': 'BTCDAI', 'bid_price_3': 42790.81, 'ask_price_3': 42796.98}]\n"
     ]
    }
   ],
   "source": [
    "# # print(len(qry.all()))\n",
    "# # print(qry.all())\n",
    "\n",
    "# # # Convert the result to a pandas DataFrame\n",
    "# # data = {'id': [1, 2],\n",
    "# #         'symbol': ['ETH-BTC-USDT', 'ETH-BTC-TUSD'],\n",
    "# #         'sub_pairs_list': ['BTCUSDT, ETHBTC, ETHUSDT', 'BTCTUSD, ETHBTC'],\n",
    "# #         'best_bid_prices_list': ['43008.88, 0.05355, 2303.76', '43558.59, 0.05355'],\n",
    "# #         'best_ask_prices_list': ['43008.89, 0.05356, 2303.77', '43558.6, 0.05356']}\n",
    "\n",
    "\n",
    "result = DataLoader().get_latest_data()\n",
    "print(result)\n",
    "# df = pd.DataFrame(result, columns=['id', 'assets', 'sub_pairs_list', 'best_bid_prices_list', 'best_ask_prices_list'])\n",
    "# df[['sub_pair__B/C', 'sub_pair__A/B', 'sub_pair__A/C']] = df['sub_pairs_list'].str.split(', ', expand=True)\n",
    "# df[['bid_price__B/C', 'bid_price__A/B', 'bid_price__A/C']] = df['best_bid_prices_list'].str.split(', ', expand=True).astype(float)\n",
    "\n",
    "# # Split 'best_ask_prices_list' into three columns and convert values to float\n",
    "# df[['ask_price_A', 'ask_price_B', 'ask_price_C']] = df['best_ask_prices_list'].str.split(', ', expand=True).astype(float)\n",
    "# # Display the DataFrame\n",
    "# columns_to_check = ['sub_pair__B/C', 'sub_pair__A/B', 'sub_pair__A/C', 'bid_price__B/C', 'bid_price__A/B', 'bid_price__A/C',\n",
    "#                      'ask_price_A', 'ask_price_B', 'ask_price_C']\n",
    "\n",
    "# # Drop rows where any of the specified columns contain NaN\n",
    "# df = df.dropna(subset=columns_to_check)\n",
    "# pd.set_option('display.max_rows', None)\n",
    "# print(len(df))\n",
    "# display(df)\n"
   ]
  }
 ],
 "metadata": {
  "kernelspec": {
   "display_name": "xenv",
   "language": "python",
   "name": "python3"
  },
  "language_info": {
   "codemirror_mode": {
    "name": "ipython",
    "version": 3
   },
   "file_extension": ".py",
   "mimetype": "text/x-python",
   "name": "python",
   "nbconvert_exporter": "python",
   "pygments_lexer": "ipython3",
   "version": "3.10.13"
  },
  "orig_nbformat": 4
 },
 "nbformat": 4,
 "nbformat_minor": 2
}
