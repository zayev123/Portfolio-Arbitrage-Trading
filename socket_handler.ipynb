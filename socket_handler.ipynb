{
 "cells": [
  {
   "cell_type": "code",
   "execution_count": null,
   "metadata": {},
   "outputs": [],
   "source": [
    "import websocket\n",
    "import threading\n",
    "import json\n",
    "\n",
    "symbol = \"BTCUSDT\"\n",
    "endpoint = f\"wss://stream.binance.com:9443/ws/{symbol.lower()}@bookTicker\"\n",
    "\n",
    "class WebSocketThread(threading.Thread):\n",
    "    def __init__(self, endpoint):\n",
    "        super().__init__()\n",
    "        self.ws = websocket.WebSocketApp(\n",
    "            endpoint,\n",
    "            on_open=self.on_open,\n",
    "            on_message=self.on_message,\n",
    "            on_error=self.on_error,\n",
    "            on_close=self.on_close\n",
    "        )\n",
    "        self.updates = []  # List to store updates\n",
    "\n",
    "    def on_open(self, ws):\n",
    "        print(f\"Connected\")\n",
    "\n",
    "    def on_message(self, ws, message):\n",
    "        update = json.loads(message)\n",
    "        self.updates.append(update)\n",
    "        print(f\"New update: {update}\")\n",
    "        # You can perform additional actions or processing here\n",
    "\n",
    "    def on_error(self, ws, error):\n",
    "        print(f\"Error: {error}\")\n",
    "\n",
    "    def on_close(self, ws, close_status_code, close_msg):\n",
    "        print(f\"Connection close: {close_status_code} - {close_msg}\")\n",
    "\n",
    "    def run(self):\n",
    "        self.ws.run_forever()\n",
    "\n",
    "    def stop(self):\n",
    "        self.ws.close()\n",
    "# ws.run_forever()"
   ]
  },
  {
   "cell_type": "code",
   "execution_count": null,
   "metadata": {},
   "outputs": [],
   "source": [
    "def function_two(stop_event):\n",
    "    while not stop_event.is_set():\n",
    "        # time.sleep(1)\n",
    "        print(\"Function Two is running...\")"
   ]
  },
  {
   "cell_type": "code",
   "execution_count": null,
   "metadata": {},
   "outputs": [],
   "source": [
    "# Create a threading.Event to signal the WebSocketThread to stop\n",
    "stop_event = threading.Event()\n",
    "\n",
    "# Create and start the WebSocketThread\n",
    "ws_thread = WebSocketThread(endpoint)\n",
    "thread_two = threading.Thread(target=function_two, args=(stop_event,))\n",
    "ws_thread.start()\n",
    "thread_two.start()\n",
    "\n",
    "try:\n",
    "    # Keep the main thread running\n",
    "    while True:\n",
    "        pass\n",
    "except KeyboardInterrupt:\n",
    "    # On KeyboardInterrupt, stop the WebSocketThread\n",
    "    stop_event.set()\n",
    "    ws_thread.stop()\n",
    "    ws_thread.join()\n",
    "    thread_two.join()\n",
    "    print(\"WebSocketThread joined.\")"
   ]
  },
  {
   "cell_type": "code",
   "execution_count": null,
   "metadata": {},
   "outputs": [],
   "source": [
    "print(len(ws_thread.updates))\n",
    "for updt in ws_thread.updates:\n",
    "    print(len(updt))"
   ]
  }
 ],
 "metadata": {
  "kernelspec": {
   "display_name": "xenv",
   "language": "python",
   "name": "python3"
  },
  "language_info": {
   "codemirror_mode": {
    "name": "ipython",
    "version": 3
   },
   "file_extension": ".py",
   "mimetype": "text/x-python",
   "name": "python",
   "nbconvert_exporter": "python",
   "pygments_lexer": "ipython3",
   "version": "3.10.13"
  },
  "orig_nbformat": 4
 },
 "nbformat": 4,
 "nbformat_minor": 2
}
