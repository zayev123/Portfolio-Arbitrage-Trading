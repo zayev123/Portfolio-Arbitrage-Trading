{
 "cells": [
  {
   "cell_type": "code",
   "execution_count": null,
   "metadata": {},
   "outputs": [],
   "source": [
    "from sqlalchemy.ext.declarative import declarative_base\n",
    "from sqlalchemy import create_engine\n",
    "from db_constants import Base\n",
    "\n",
    "from models import ParentPair, ChildPair\n",
    "from sqlalchemy.orm import sessionmaker\n",
    "\n",
    "engine = create_engine('sqlite:///Cryptos.db', echo=False)\n",
    "Base.metadata.create_all(engine)\n",
    "Session = sessionmaker(bind=engine)\n",
    "session = Session()\n",
    "\n",
    "# parent_pair_obj = session.query(ParentPair).filter(ParentPair.symbol==\"parent_pair\").first()"
   ]
  },
  {
   "cell_type": "code",
   "execution_count": null,
   "metadata": {},
   "outputs": [],
   "source": [
    "session.commit()\n",
    "parent_pair_obj = session.query(ParentPair).filter(ParentPair.symbol==\"ETH-BTC-USDT\").first()\n",
    "child_pair_obj = session.query(ChildPair).filter(ChildPair.parent_pair_id==1).first()\n",
    "x_pairs = session.query(ChildPair).all()\n",
    "for ch in x_pairs:\n",
    "    print(ch.__dict__)\n"
   ]
  },
  {
   "cell_type": "code",
   "execution_count": null,
   "metadata": {},
   "outputs": [],
   "source": []
  },
  {
   "cell_type": "code",
   "execution_count": null,
   "metadata": {},
   "outputs": [],
   "source": [
    "# 'parent_pair_id': 2, 'best_ask_price': 2339.85, 'symbol': 'ETHTUSD', 'best_bid_price': 2339.58, 'id': 5}\n"
   ]
  }
 ],
 "metadata": {
  "kernelspec": {
   "display_name": "xenv",
   "language": "python",
   "name": "python3"
  },
  "language_info": {
   "codemirror_mode": {
    "name": "ipython",
    "version": 3
   },
   "file_extension": ".py",
   "mimetype": "text/x-python",
   "name": "python",
   "nbconvert_exporter": "python",
   "pygments_lexer": "ipython3",
   "version": "3.10.13"
  },
  "orig_nbformat": 4
 },
 "nbformat": 4,
 "nbformat_minor": 2
}
