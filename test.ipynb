{
 "cells": [
  {
   "cell_type": "code",
   "execution_count": 3,
   "metadata": {},
   "outputs": [],
   "source": [
    "from sqlalchemy.ext.declarative import declarative_base\n",
    "from sqlalchemy import create_engine\n",
    "from db_constants import Base\n",
    "\n",
    "from models import ParentPair, ChildPair\n",
    "from sqlalchemy.orm import sessionmaker\n",
    "\n",
    "engine = create_engine('sqlite:///Cryptos.db', echo=False)\n",
    "Base.metadata.create_all(engine)\n",
    "Session = sessionmaker(bind=engine)\n",
    "session = Session()\n",
    "\n",
    "# parent_pair_obj = session.query(ParentPair).filter(ParentPair.symbol==\"parent_pair\").first()"
   ]
  },
  {
   "cell_type": "code",
   "execution_count": 10,
   "metadata": {},
   "outputs": [
    {
     "name": "stdout",
     "output_type": "stream",
     "text": [
      "{'_sa_instance_state': <sqlalchemy.orm.state.InstanceState object at 0x10eb62c20>, 'parent_pair_id': 1, 'best_ask_price': 0.05375, 'symbol': 'ETHBTC', 'best_bid_price': 0.05374, 'id': 1}\n",
      "{'_sa_instance_state': <sqlalchemy.orm.state.InstanceState object at 0x10eb62bc0>, 'parent_pair_id': 1, 'best_ask_price': 2313.99, 'symbol': 'ETHUSDT', 'best_bid_price': 2313.98, 'id': 2}\n",
      "{'_sa_instance_state': <sqlalchemy.orm.state.InstanceState object at 0x10eb62e60>, 'parent_pair_id': 1, 'best_ask_price': 43057.67, 'symbol': 'BTCUSDT', 'best_bid_price': 43057.66, 'id': 3}\n",
      "{'_sa_instance_state': <sqlalchemy.orm.state.InstanceState object at 0x10eb62ec0>, 'parent_pair_id': 2, 'best_ask_price': 0.05375, 'symbol': 'ETHBTC', 'best_bid_price': 0.05374, 'id': 4}\n",
      "{'_sa_instance_state': <sqlalchemy.orm.state.InstanceState object at 0x10eb62f20>, 'parent_pair_id': 2, 'best_ask_price': 2342.45, 'symbol': 'ETHTUSD', 'best_bid_price': 2342.05, 'id': 5}\n",
      "{'_sa_instance_state': <sqlalchemy.orm.state.InstanceState object at 0x10eb62f80>, 'parent_pair_id': 2, 'best_ask_price': 43583.86, 'symbol': 'BTCTUSD', 'best_bid_price': 43583.85, 'id': 6}\n"
     ]
    }
   ],
   "source": [
    "session.commit()\n",
    "parent_pair_obj = session.query(ParentPair).filter(ParentPair.symbol==\"ETH-BTC-USDT\").first()\n",
    "child_pair_obj = session.query(ChildPair).filter(ChildPair.parent_pair_id==1).first()\n",
    "x_pairs = session.query(ChildPair).all()\n",
    "for ch in x_pairs:\n",
    "    print(ch.__dict__)\n"
   ]
  },
  {
   "cell_type": "code",
   "execution_count": null,
   "metadata": {},
   "outputs": [],
   "source": [
    "# 'parent_pair_id': 2, 'best_ask_price': 2342.83, 'symbol': 'ETHTUSD', 'best_bid_price': 2342.07, 'id': 5\n"
   ]
  }
 ],
 "metadata": {
  "kernelspec": {
   "display_name": "xenv",
   "language": "python",
   "name": "python3"
  },
  "language_info": {
   "codemirror_mode": {
    "name": "ipython",
    "version": 3
   },
   "file_extension": ".py",
   "mimetype": "text/x-python",
   "name": "python",
   "nbconvert_exporter": "python",
   "pygments_lexer": "ipython3",
   "version": "3.10.13"
  },
  "orig_nbformat": 4
 },
 "nbformat": 4,
 "nbformat_minor": 2
}
