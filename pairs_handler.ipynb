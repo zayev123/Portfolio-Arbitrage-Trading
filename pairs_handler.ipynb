{
 "cells": [
  {
   "cell_type": "code",
   "execution_count": null,
   "metadata": {},
   "outputs": [],
   "source": [
    "import requests\n",
    "# dict_keys(['timezone', 'serverTime', 'rateLimits', 'exchangeFilters', 'symbols'])\n",
    "url = \"https://api.binance.com/api/v3/exchangeInfo\"\n",
    "\n",
    "# Sending a GET request\n",
    "response = requests.get(url)\n",
    "\n",
    "# Check if the request was successful (status code 200)\n",
    "if response.status_code == 200:\n",
    "    # Parse the JSON response\n",
    "    data = response.json()\n",
    "    print(\"Response data:\", data[\"symbols\"][0:10])\n",
    "    symbols_data = data[\"symbols\"]\n",
    "    i = 0\n",
    "    j = 0\n",
    "    d = \"\"\n",
    "    \n",
    "    while (i < 10 and j < 2000) :\n",
    "        # print(symbols_data[i])\n",
    "        # i+=1\n",
    "        curr_data = symbols_data[i]\n",
    "        if curr_data['quoteAsset'] == 'USDT':\n",
    "            print(curr_data)\n",
    "            i+=1\n",
    "        j = j+1\n",
    "\n",
    "else:\n",
    "    print(f\"Error: {response.status_code} - {response.text}\")"
   ]
  },
  {
   "cell_type": "code",
   "execution_count": null,
   "metadata": {},
   "outputs": [],
   "source": [
    "# API endpoint for exchange information\n",
    "from data_transformer import DataTransformer\n",
    "\n",
    "\n",
    "url = \"https://api.binance.com/api/v3/exchangeInfo\"\n",
    "\n",
    "# Sending a GET request\n",
    "response = requests.get(url)\n",
    "\n",
    "# Check if the request was successful (status code 200)\n",
    "if response.status_code == 200:\n",
    "    # Parse the JSON response\n",
    "    exchange_info = response.json()\n",
    "\n",
    "    # Extract trading pairs with USDT as the quote asset\n",
    "    # usdt_trading_pairs = [symbol for symbol in exchange_info['symbols'] if symbol['quoteAsset'] == 'USDT']\n",
    "    symbols_data = exchange_info['symbols']\n",
    "    # test_symbols = symbols_data[0:1000]\n",
    "    test_symbols = symbols_data\n",
    "    xdata = DataTransformer(test_symbols)\n",
    "    print(len(xdata.combinations_dict))\n",
    "    for comb in xdata.combinations_dict:\n",
    "        print(comb)\n",
    "\n",
    "    # print(\"List of trading pairs with USDT as the quote asset on Binance:\")\n",
    "    # for pair in usdt_trading_pairs:\n",
    "    #     print(pair) BTCBUSD, BUSDBTC\n",
    "else:\n",
    "    print(f\"Error: {response.status_code} - {response.text}\")"
   ]
  },
  {
   "cell_type": "code",
   "execution_count": null,
   "metadata": {},
   "outputs": [],
   "source": []
  }
 ],
 "metadata": {
  "kernelspec": {
   "display_name": "xenv",
   "language": "python",
   "name": "python3"
  },
  "language_info": {
   "codemirror_mode": {
    "name": "ipython",
    "version": 3
   },
   "file_extension": ".py",
   "mimetype": "text/x-python",
   "name": "python",
   "nbconvert_exporter": "python",
   "pygments_lexer": "ipython3",
   "version": "3.10.13"
  },
  "orig_nbformat": 4
 },
 "nbformat": 4,
 "nbformat_minor": 2
}
